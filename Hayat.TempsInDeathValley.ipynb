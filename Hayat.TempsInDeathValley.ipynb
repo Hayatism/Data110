{
 "cells": [
  {
   "cell_type": "code",
   "execution_count": 2,
   "id": "da93812d",
   "metadata": {},
   "outputs": [],
   "source": [
    "import pandas as pd\n",
    "import matplotlib.pyplot as plt\n",
    "import numpy as np\n",
    "import seaborn as sns\n"
   ]
  },
  {
   "cell_type": "code",
   "execution_count": 3,
   "id": "d724036b",
   "metadata": {},
   "outputs": [
    {
     "data": {
      "text/html": [
       "<div>\n",
       "<style scoped>\n",
       "    .dataframe tbody tr th:only-of-type {\n",
       "        vertical-align: middle;\n",
       "    }\n",
       "\n",
       "    .dataframe tbody tr th {\n",
       "        vertical-align: top;\n",
       "    }\n",
       "\n",
       "    .dataframe thead th {\n",
       "        text-align: right;\n",
       "    }\n",
       "</style>\n",
       "<table border=\"1\" class=\"dataframe\">\n",
       "  <thead>\n",
       "    <tr style=\"text-align: right;\">\n",
       "      <th></th>\n",
       "      <th>location</th>\n",
       "      <th>station_id</th>\n",
       "      <th>temperature</th>\n",
       "      <th>month_name</th>\n",
       "      <th>month</th>\n",
       "      <th>day</th>\n",
       "      <th>date</th>\n",
       "      <th>day_of_year</th>\n",
       "    </tr>\n",
       "  </thead>\n",
       "  <tbody>\n",
       "    <tr>\n",
       "      <th>0</th>\n",
       "      <td>Death Valley</td>\n",
       "      <td>USC00042319</td>\n",
       "      <td>51.0</td>\n",
       "      <td>Jan</td>\n",
       "      <td>1</td>\n",
       "      <td>1</td>\n",
       "      <td>0000-01-01</td>\n",
       "      <td>1</td>\n",
       "    </tr>\n",
       "    <tr>\n",
       "      <th>1</th>\n",
       "      <td>Death Valley</td>\n",
       "      <td>USC00042319</td>\n",
       "      <td>51.2</td>\n",
       "      <td>Jan</td>\n",
       "      <td>1</td>\n",
       "      <td>2</td>\n",
       "      <td>0000-01-02</td>\n",
       "      <td>2</td>\n",
       "    </tr>\n",
       "    <tr>\n",
       "      <th>2</th>\n",
       "      <td>Death Valley</td>\n",
       "      <td>USC00042319</td>\n",
       "      <td>51.3</td>\n",
       "      <td>Jan</td>\n",
       "      <td>1</td>\n",
       "      <td>3</td>\n",
       "      <td>0000-01-03</td>\n",
       "      <td>3</td>\n",
       "    </tr>\n",
       "    <tr>\n",
       "      <th>3</th>\n",
       "      <td>Death Valley</td>\n",
       "      <td>USC00042319</td>\n",
       "      <td>51.4</td>\n",
       "      <td>Jan</td>\n",
       "      <td>1</td>\n",
       "      <td>4</td>\n",
       "      <td>0000-01-04</td>\n",
       "      <td>4</td>\n",
       "    </tr>\n",
       "    <tr>\n",
       "      <th>4</th>\n",
       "      <td>Death Valley</td>\n",
       "      <td>USC00042319</td>\n",
       "      <td>51.6</td>\n",
       "      <td>Jan</td>\n",
       "      <td>1</td>\n",
       "      <td>5</td>\n",
       "      <td>0000-01-05</td>\n",
       "      <td>5</td>\n",
       "    </tr>\n",
       "  </tbody>\n",
       "</table>\n",
       "</div>"
      ],
      "text/plain": [
       "       location   station_id  temperature month_name  month  day        date  \\\n",
       "0  Death Valley  USC00042319         51.0        Jan      1    1  0000-01-01   \n",
       "1  Death Valley  USC00042319         51.2        Jan      1    2  0000-01-02   \n",
       "2  Death Valley  USC00042319         51.3        Jan      1    3  0000-01-03   \n",
       "3  Death Valley  USC00042319         51.4        Jan      1    4  0000-01-04   \n",
       "4  Death Valley  USC00042319         51.6        Jan      1    5  0000-01-05   \n",
       "\n",
       "   day_of_year  \n",
       "0            1  \n",
       "1            2  \n",
       "2            3  \n",
       "3            4  \n",
       "4            5  "
      ]
     },
     "execution_count": 3,
     "metadata": {},
     "output_type": "execute_result"
    }
   ],
   "source": [
    "#df = pd.read_csv(https://raw.githubusercontent.com/Reben80/Data110-32213/main/dataset/deaths.csv)\n",
    "\n",
    "df = pd.read_csv(\"tempnormals.csv\")\n",
    "df.head(5)"
   ]
  },
  {
   "cell_type": "code",
   "execution_count": 4,
   "id": "c06794c0",
   "metadata": {},
   "outputs": [
    {
     "data": {
      "text/html": [
       "<div>\n",
       "<style scoped>\n",
       "    .dataframe tbody tr th:only-of-type {\n",
       "        vertical-align: middle;\n",
       "    }\n",
       "\n",
       "    .dataframe tbody tr th {\n",
       "        vertical-align: top;\n",
       "    }\n",
       "\n",
       "    .dataframe thead th {\n",
       "        text-align: right;\n",
       "    }\n",
       "</style>\n",
       "<table border=\"1\" class=\"dataframe\">\n",
       "  <thead>\n",
       "    <tr style=\"text-align: right;\">\n",
       "      <th></th>\n",
       "      <th>location</th>\n",
       "      <th>station_id</th>\n",
       "      <th>temperature</th>\n",
       "      <th>month_name</th>\n",
       "      <th>month</th>\n",
       "      <th>day</th>\n",
       "      <th>date</th>\n",
       "      <th>day_of_year</th>\n",
       "    </tr>\n",
       "  </thead>\n",
       "  <tbody>\n",
       "    <tr>\n",
       "      <th>1459</th>\n",
       "      <td>San Diego</td>\n",
       "      <td>USW00093107</td>\n",
       "      <td>55.0</td>\n",
       "      <td>Dec</td>\n",
       "      <td>12</td>\n",
       "      <td>27</td>\n",
       "      <td>0000-12-27</td>\n",
       "      <td>362</td>\n",
       "    </tr>\n",
       "    <tr>\n",
       "      <th>1460</th>\n",
       "      <td>San Diego</td>\n",
       "      <td>USW00093107</td>\n",
       "      <td>55.0</td>\n",
       "      <td>Dec</td>\n",
       "      <td>12</td>\n",
       "      <td>28</td>\n",
       "      <td>0000-12-28</td>\n",
       "      <td>363</td>\n",
       "    </tr>\n",
       "    <tr>\n",
       "      <th>1461</th>\n",
       "      <td>San Diego</td>\n",
       "      <td>USW00093107</td>\n",
       "      <td>55.1</td>\n",
       "      <td>Dec</td>\n",
       "      <td>12</td>\n",
       "      <td>29</td>\n",
       "      <td>0000-12-29</td>\n",
       "      <td>364</td>\n",
       "    </tr>\n",
       "    <tr>\n",
       "      <th>1462</th>\n",
       "      <td>San Diego</td>\n",
       "      <td>USW00093107</td>\n",
       "      <td>55.1</td>\n",
       "      <td>Dec</td>\n",
       "      <td>12</td>\n",
       "      <td>30</td>\n",
       "      <td>0000-12-30</td>\n",
       "      <td>365</td>\n",
       "    </tr>\n",
       "    <tr>\n",
       "      <th>1463</th>\n",
       "      <td>San Diego</td>\n",
       "      <td>USW00093107</td>\n",
       "      <td>55.2</td>\n",
       "      <td>Dec</td>\n",
       "      <td>12</td>\n",
       "      <td>31</td>\n",
       "      <td>0000-12-31</td>\n",
       "      <td>366</td>\n",
       "    </tr>\n",
       "  </tbody>\n",
       "</table>\n",
       "</div>"
      ],
      "text/plain": [
       "       location   station_id  temperature month_name  month  day        date  \\\n",
       "1459  San Diego  USW00093107         55.0        Dec     12   27  0000-12-27   \n",
       "1460  San Diego  USW00093107         55.0        Dec     12   28  0000-12-28   \n",
       "1461  San Diego  USW00093107         55.1        Dec     12   29  0000-12-29   \n",
       "1462  San Diego  USW00093107         55.1        Dec     12   30  0000-12-30   \n",
       "1463  San Diego  USW00093107         55.2        Dec     12   31  0000-12-31   \n",
       "\n",
       "      day_of_year  \n",
       "1459          362  \n",
       "1460          363  \n",
       "1461          364  \n",
       "1462          365  \n",
       "1463          366  "
      ]
     },
     "execution_count": 4,
     "metadata": {},
     "output_type": "execute_result"
    }
   ],
   "source": [
    "#df.tail()\n",
    "#dd.describe()\n",
    "#df.columns\n",
    "#df.shape"
   ]
  },
  {
   "cell_type": "code",
   "execution_count": 32,
   "id": "81bd7778",
   "metadata": {},
   "outputs": [
    {
     "name": "stdout",
     "output_type": "stream",
     "text": [
      "0       Death Valley\n",
      "1       Death Valley\n",
      "2       Death Valley\n",
      "3       Death Valley\n",
      "4       Death Valley\n",
      "            ...     \n",
      "1459       San Diego\n",
      "1460       San Diego\n",
      "1461       San Diego\n",
      "1462       San Diego\n",
      "1463       San Diego\n",
      "Name: location, Length: 1464, dtype: object\n"
     ]
    }
   ],
   "source": [
    "location = df['location']\n",
    "print(location)"
   ]
  },
  {
   "cell_type": "code",
   "execution_count": 33,
   "id": "558bc793",
   "metadata": {},
   "outputs": [
    {
     "data": {
      "text/plain": [
       "count             1464\n",
       "unique               4\n",
       "top       Death Valley\n",
       "freq               366\n",
       "Name: location, dtype: object"
      ]
     },
     "execution_count": 33,
     "metadata": {},
     "output_type": "execute_result"
    }
   ],
   "source": [
    "location.describe()"
   ]
  },
  {
   "cell_type": "code",
   "execution_count": 29,
   "id": "ff99d03f",
   "metadata": {},
   "outputs": [],
   "source": []
  },
  {
   "cell_type": "code",
   "execution_count": null,
   "id": "5187c321",
   "metadata": {},
   "outputs": [],
   "source": [
    "dv = df[df['location'] == 'Death Valley']"
   ]
  },
  {
   "cell_type": "code",
   "execution_count": 30,
   "id": "c5387c2b",
   "metadata": {},
   "outputs": [
    {
     "name": "stdout",
     "output_type": "stream",
     "text": [
      "77.15382513661203\n"
     ]
    }
   ],
   "source": [
    "descriptive_data_dv = dv['temperature'].describe()\n",
    "Average_dv = descriptive_data_dv['mean']\n",
    "print(Average_dv)"
   ]
  },
  {
   "cell_type": "code",
   "execution_count": 31,
   "id": "56741e63",
   "metadata": {},
   "outputs": [
    {
     "data": {
      "image/png": "[encoded data removed]",
      "text/plain": [
       "<Figure size 800x500 with 1 Axes>"
      ]
     },
     "metadata": {},
     "output_type": "display_data"
    }
   ],
   "source": [
    "plt.figure(figsize=(8,5))\n",
    "plt.style.use('ggplot')\n",
    "\n",
    "plt.axhline(y=Average_dv, linestyle='--', color='lightblue',label='Average')\n",
    "plt.plot(dv['day_of_year'], dv['temperature'], label='Death Valley Temperature')\n",
    "plt.xlabel('Day')\n",
    "plt.ylabel('Temperature')\n",
    "plt.title('Trend Temperature in Death Valley',color='orange')\n",
    "plt.grid(True)\n",
    "plt.legend(facecolor='darkgray', framealpha=.8)\n",
    "plt.show()"
   ]
  },
  {
   "cell_type": "code",
   "execution_count": 34,
   "id": "e6df5217",
   "metadata": {},
   "outputs": [
    {
     "name": "stdout",
     "output_type": "stream",
     "text": [
      "Index(['location', 'station_id', 'temperature', 'month_name', 'month', 'day',\n",
      "       'date', 'day_of_year'],\n",
      "      dtype='object')\n"
     ]
    }
   ],
   "source": [
    "#Task 1\n",
    "df3 = df[df['location'] == 'San Diego']\n",
    "print(df3.columns)\n"
   ]
  },
  {
   "cell_type": "code",
   "execution_count": 35,
   "id": "d99266ef",
   "metadata": {},
   "outputs": [
    {
     "name": "stdout",
     "output_type": "stream",
     "text": [
      "62.92513661202187\n"
     ]
    }
   ],
   "source": [
    "#Now for San Diego\n",
    "descriptive_data_dv = df3['temperature'].describe()\n",
    "Average_dv = descriptive_data_dv['mean']\n",
    "print(Average_dv)"
   ]
  },
  {
   "cell_type": "code",
   "execution_count": 27,
   "id": "93cad1eb",
   "metadata": {},
   "outputs": [
    {
     "name": "stdout",
     "output_type": "stream",
     "text": [
      "location\n",
      "San Diego    366\n",
      "Name: day_of_year, dtype: int64\n"
     ]
    }
   ],
   "source": [
    "grouped_df3 = df3.groupby('location')['day_of_year'].count()\n",
    "print(grouped_df3)"
   ]
  },
  {
   "cell_type": "code",
   "execution_count": 31,
   "id": "a21e2aa0",
   "metadata": {},
   "outputs": [
    {
     "name": "stdout",
     "output_type": "stream",
     "text": [
      "62.92513661202187\n"
     ]
    }
   ],
   "source": [
    "aver_SanD = df3['temperature'].mean()\n",
    "print(aver_SanD)"
   ]
  },
  {
   "cell_type": "code",
   "execution_count": 16,
   "id": "e6e15958",
   "metadata": {},
   "outputs": [
    {
     "data": {
      "text/html": [
       "<div>\n",
       "<style scoped>\n",
       "    .dataframe tbody tr th:only-of-type {\n",
       "        vertical-align: middle;\n",
       "    }\n",
       "\n",
       "    .dataframe tbody tr th {\n",
       "        vertical-align: top;\n",
       "    }\n",
       "\n",
       "    .dataframe thead th {\n",
       "        text-align: right;\n",
       "    }\n",
       "</style>\n",
       "<table border=\"1\" class=\"dataframe\">\n",
       "  <thead>\n",
       "    <tr style=\"text-align: right;\">\n",
       "      <th></th>\n",
       "      <th>location</th>\n",
       "      <th>station_id</th>\n",
       "      <th>temperature</th>\n",
       "      <th>month_name</th>\n",
       "      <th>month</th>\n",
       "      <th>day</th>\n",
       "      <th>date</th>\n",
       "      <th>day_of_year</th>\n",
       "    </tr>\n",
       "  </thead>\n",
       "  <tbody>\n",
       "    <tr>\n",
       "      <th>1098</th>\n",
       "      <td>San Diego</td>\n",
       "      <td>USW00093107</td>\n",
       "      <td>55.2</td>\n",
       "      <td>Jan</td>\n",
       "      <td>1</td>\n",
       "      <td>1</td>\n",
       "      <td>0000-01-01</td>\n",
       "      <td>1</td>\n",
       "    </tr>\n",
       "    <tr>\n",
       "      <th>1099</th>\n",
       "      <td>San Diego</td>\n",
       "      <td>USW00093107</td>\n",
       "      <td>55.3</td>\n",
       "      <td>Jan</td>\n",
       "      <td>1</td>\n",
       "      <td>2</td>\n",
       "      <td>0000-01-02</td>\n",
       "      <td>2</td>\n",
       "    </tr>\n",
       "    <tr>\n",
       "      <th>1100</th>\n",
       "      <td>San Diego</td>\n",
       "      <td>USW00093107</td>\n",
       "      <td>55.3</td>\n",
       "      <td>Jan</td>\n",
       "      <td>1</td>\n",
       "      <td>3</td>\n",
       "      <td>0000-01-03</td>\n",
       "      <td>3</td>\n",
       "    </tr>\n",
       "    <tr>\n",
       "      <th>1101</th>\n",
       "      <td>San Diego</td>\n",
       "      <td>USW00093107</td>\n",
       "      <td>55.4</td>\n",
       "      <td>Jan</td>\n",
       "      <td>1</td>\n",
       "      <td>4</td>\n",
       "      <td>0000-01-04</td>\n",
       "      <td>4</td>\n",
       "    </tr>\n",
       "    <tr>\n",
       "      <th>1102</th>\n",
       "      <td>San Diego</td>\n",
       "      <td>USW00093107</td>\n",
       "      <td>55.4</td>\n",
       "      <td>Jan</td>\n",
       "      <td>1</td>\n",
       "      <td>5</td>\n",
       "      <td>0000-01-05</td>\n",
       "      <td>5</td>\n",
       "    </tr>\n",
       "    <tr>\n",
       "      <th>...</th>\n",
       "      <td>...</td>\n",
       "      <td>...</td>\n",
       "      <td>...</td>\n",
       "      <td>...</td>\n",
       "      <td>...</td>\n",
       "      <td>...</td>\n",
       "      <td>...</td>\n",
       "      <td>...</td>\n",
       "    </tr>\n",
       "    <tr>\n",
       "      <th>1459</th>\n",
       "      <td>San Diego</td>\n",
       "      <td>USW00093107</td>\n",
       "      <td>55.0</td>\n",
       "      <td>Dec</td>\n",
       "      <td>12</td>\n",
       "      <td>27</td>\n",
       "      <td>0000-12-27</td>\n",
       "      <td>362</td>\n",
       "    </tr>\n",
       "    <tr>\n",
       "      <th>1460</th>\n",
       "      <td>San Diego</td>\n",
       "      <td>USW00093107</td>\n",
       "      <td>55.0</td>\n",
       "      <td>Dec</td>\n",
       "      <td>12</td>\n",
       "      <td>28</td>\n",
       "      <td>0000-12-28</td>\n",
       "      <td>363</td>\n",
       "    </tr>\n",
       "    <tr>\n",
       "      <th>1461</th>\n",
       "      <td>San Diego</td>\n",
       "      <td>USW00093107</td>\n",
       "      <td>55.1</td>\n",
       "      <td>Dec</td>\n",
       "      <td>12</td>\n",
       "      <td>29</td>\n",
       "      <td>0000-12-29</td>\n",
       "      <td>364</td>\n",
       "    </tr>\n",
       "    <tr>\n",
       "      <th>1462</th>\n",
       "      <td>San Diego</td>\n",
       "      <td>USW00093107</td>\n",
       "      <td>55.1</td>\n",
       "      <td>Dec</td>\n",
       "      <td>12</td>\n",
       "      <td>30</td>\n",
       "      <td>0000-12-30</td>\n",
       "      <td>365</td>\n",
       "    </tr>\n",
       "    <tr>\n",
       "      <th>1463</th>\n",
       "      <td>San Diego</td>\n",
       "      <td>USW00093107</td>\n",
       "      <td>55.2</td>\n",
       "      <td>Dec</td>\n",
       "      <td>12</td>\n",
       "      <td>31</td>\n",
       "      <td>0000-12-31</td>\n",
       "      <td>366</td>\n",
       "    </tr>\n",
       "  </tbody>\n",
       "</table>\n",
       "<p>366 rows × 8 columns</p>\n",
       "</div>"
      ],
      "text/plain": [
       "       location   station_id  temperature month_name  month  day        date  \\\n",
       "1098  San Diego  USW00093107         55.2        Jan      1    1  0000-01-01   \n",
       "1099  San Diego  USW00093107         55.3        Jan      1    2  0000-01-02   \n",
       "1100  San Diego  USW00093107         55.3        Jan      1    3  0000-01-03   \n",
       "1101  San Diego  USW00093107         55.4        Jan      1    4  0000-01-04   \n",
       "1102  San Diego  USW00093107         55.4        Jan      1    5  0000-01-05   \n",
       "...         ...          ...          ...        ...    ...  ...         ...   \n",
       "1459  San Diego  USW00093107         55.0        Dec     12   27  0000-12-27   \n",
       "1460  San Diego  USW00093107         55.0        Dec     12   28  0000-12-28   \n",
       "1461  San Diego  USW00093107         55.1        Dec     12   29  0000-12-29   \n",
       "1462  San Diego  USW00093107         55.1        Dec     12   30  0000-12-30   \n",
       "1463  San Diego  USW00093107         55.2        Dec     12   31  0000-12-31   \n",
       "\n",
       "      day_of_year  \n",
       "1098            1  \n",
       "1099            2  \n",
       "1100            3  \n",
       "1101            4  \n",
       "1102            5  \n",
       "...           ...  \n",
       "1459          362  \n",
       "1460          363  \n",
       "1461          364  \n",
       "1462          365  \n",
       "1463          366  \n",
       "\n",
       "[366 rows x 8 columns]"
      ]
     },
     "execution_count": 16,
     "metadata": {},
     "output_type": "execute_result"
    }
   ],
   "source": [
    "df.loc[df['location'] == \"San Diego\"]"
   ]
  },
  {
   "cell_type": "code",
   "execution_count": 22,
   "id": "7204e60b",
   "metadata": {},
   "outputs": [
    {
     "data": {
      "text/html": [
       "<div>\n",
       "<style scoped>\n",
       "    .dataframe tbody tr th:only-of-type {\n",
       "        vertical-align: middle;\n",
       "    }\n",
       "\n",
       "    .dataframe tbody tr th {\n",
       "        vertical-align: top;\n",
       "    }\n",
       "\n",
       "    .dataframe thead th {\n",
       "        text-align: right;\n",
       "    }\n",
       "</style>\n",
       "<table border=\"1\" class=\"dataframe\">\n",
       "  <thead>\n",
       "    <tr style=\"text-align: right;\">\n",
       "      <th></th>\n",
       "      <th>location</th>\n",
       "      <th>station_id</th>\n",
       "      <th>temperature</th>\n",
       "      <th>month_name</th>\n",
       "      <th>month</th>\n",
       "      <th>day</th>\n",
       "      <th>date</th>\n",
       "      <th>day_of_year</th>\n",
       "    </tr>\n",
       "  </thead>\n",
       "  <tbody>\n",
       "    <tr>\n",
       "      <th>1098</th>\n",
       "      <td>San Diego</td>\n",
       "      <td>USW00093107</td>\n",
       "      <td>55.2</td>\n",
       "      <td>Jan</td>\n",
       "      <td>1</td>\n",
       "      <td>1</td>\n",
       "      <td>0000-01-01</td>\n",
       "      <td>1</td>\n",
       "    </tr>\n",
       "    <tr>\n",
       "      <th>1099</th>\n",
       "      <td>San Diego</td>\n",
       "      <td>USW00093107</td>\n",
       "      <td>55.3</td>\n",
       "      <td>Jan</td>\n",
       "      <td>1</td>\n",
       "      <td>2</td>\n",
       "      <td>0000-01-02</td>\n",
       "      <td>2</td>\n",
       "    </tr>\n",
       "    <tr>\n",
       "      <th>1100</th>\n",
       "      <td>San Diego</td>\n",
       "      <td>USW00093107</td>\n",
       "      <td>55.3</td>\n",
       "      <td>Jan</td>\n",
       "      <td>1</td>\n",
       "      <td>3</td>\n",
       "      <td>0000-01-03</td>\n",
       "      <td>3</td>\n",
       "    </tr>\n",
       "    <tr>\n",
       "      <th>1101</th>\n",
       "      <td>San Diego</td>\n",
       "      <td>USW00093107</td>\n",
       "      <td>55.4</td>\n",
       "      <td>Jan</td>\n",
       "      <td>1</td>\n",
       "      <td>4</td>\n",
       "      <td>0000-01-04</td>\n",
       "      <td>4</td>\n",
       "    </tr>\n",
       "    <tr>\n",
       "      <th>1102</th>\n",
       "      <td>San Diego</td>\n",
       "      <td>USW00093107</td>\n",
       "      <td>55.4</td>\n",
       "      <td>Jan</td>\n",
       "      <td>1</td>\n",
       "      <td>5</td>\n",
       "      <td>0000-01-05</td>\n",
       "      <td>5</td>\n",
       "    </tr>\n",
       "  </tbody>\n",
       "</table>\n",
       "</div>"
      ],
      "text/plain": [
       "       location   station_id  temperature month_name  month  day        date  \\\n",
       "1098  San Diego  USW00093107         55.2        Jan      1    1  0000-01-01   \n",
       "1099  San Diego  USW00093107         55.3        Jan      1    2  0000-01-02   \n",
       "1100  San Diego  USW00093107         55.3        Jan      1    3  0000-01-03   \n",
       "1101  San Diego  USW00093107         55.4        Jan      1    4  0000-01-04   \n",
       "1102  San Diego  USW00093107         55.4        Jan      1    5  0000-01-05   \n",
       "\n",
       "      day_of_year  \n",
       "1098            1  \n",
       "1099            2  \n",
       "1100            3  \n",
       "1101            4  \n",
       "1102            5  "
      ]
     },
     "execution_count": 22,
     "metadata": {},
     "output_type": "execute_result"
    }
   ],
   "source": [
    "df3.head()"
   ]
  },
  {
   "cell_type": "code",
   "execution_count": 25,
   "id": "953973ae",
   "metadata": {},
   "outputs": [
    {
     "name": "stdout",
     "output_type": "stream",
     "text": [
      "62.92513661202187\n"
     ]
    }
   ],
   "source": [
    "descriptive_data_dv = df3['temperature'].describe()\n",
    "Average_dv = descriptive_data_dv['mean']\n",
    "print(Average_dv)"
   ]
  },
  {
   "cell_type": "code",
   "execution_count": 36,
   "id": "a6d5ec0b",
   "metadata": {
    "scrolled": true
   },
   "outputs": [
    {
     "data": {
      "image/png": "[encoded data removed]",
      "text/plain": [
       "<Figure size 800x500 with 1 Axes>"
      ]
     },
     "metadata": {},
     "output_type": "display_data"
    }
   ],
   "source": [
    "plt.figure(figsize=(8,5))\n",
    "plt.style.use('ggplot')\n",
    "\n",
    "plt.axhline(y=Average_dv, linestyle='--', color='blue',label='Average')\n",
    "plt.plot(dv['day_of_year'], dv['temperature'], label='San Diego Temperature')\n",
    "plt.xlabel('Day of Year')\n",
    "plt.ylabel('Temperature')\n",
    "plt.title('Trend Temperature in San Diego',color='green')\n",
    "plt.grid(True)\n",
    "plt.legend(facecolor='darkgray', framealpha=.8)\n",
    "plt.show()"
   ]
  },
  {
   "cell_type": "code",
   "execution_count": 10,
   "id": "bdbfb9a3",
   "metadata": {},
   "outputs": [
    {
     "ename": "NameError",
     "evalue": "name 'df' is not defined",
     "output_type": "error",
     "traceback": [
      "\u001b[1;31m---------------------------------------------------------------------------\u001b[0m",
      "\u001b[1;31mNameError\u001b[0m                                 Traceback (most recent call last)",
      "\u001b[1;32m~\\AppData\\Local\\Temp\\ipykernel_888\\1292102555.py\u001b[0m in \u001b[0;36m<module>\u001b[1;34m\u001b[0m\n\u001b[0;32m      6\u001b[0m \u001b[1;33m\u001b[0m\u001b[0m\n\u001b[0;32m      7\u001b[0m \u001b[1;31m# Grouping the data by location and month, then calculating the average temperature\u001b[0m\u001b[1;33m\u001b[0m\u001b[1;33m\u001b[0m\u001b[0m\n\u001b[1;32m----> 8\u001b[1;33m \u001b[0mheatmap_data\u001b[0m \u001b[1;33m=\u001b[0m \u001b[0mdf\u001b[0m\u001b[1;33m.\u001b[0m\u001b[0mgroupby\u001b[0m\u001b[1;33m(\u001b[0m\u001b[1;33m[\u001b[0m\u001b[1;34m'location'\u001b[0m\u001b[1;33m,\u001b[0m \u001b[1;34m'month'\u001b[0m\u001b[1;33m]\u001b[0m\u001b[1;33m)\u001b[0m\u001b[1;33m[\u001b[0m\u001b[1;34m'temperature'\u001b[0m\u001b[1;33m]\u001b[0m\u001b[1;33m.\u001b[0m\u001b[0mmean\u001b[0m\u001b[1;33m(\u001b[0m\u001b[1;33m)\u001b[0m\u001b[1;33m.\u001b[0m\u001b[0munstack\u001b[0m\u001b[1;33m(\u001b[0m\u001b[0mlevel\u001b[0m\u001b[1;33m=\u001b[0m\u001b[1;36m1\u001b[0m\u001b[1;33m)\u001b[0m\u001b[1;33m\u001b[0m\u001b[1;33m\u001b[0m\u001b[0m\n\u001b[0m\u001b[0;32m      9\u001b[0m \u001b[1;33m\u001b[0m\u001b[0m\n\u001b[0;32m     10\u001b[0m \u001b[1;31m# Reordering the dataframe based on the reversed location order\u001b[0m\u001b[1;33m\u001b[0m\u001b[1;33m\u001b[0m\u001b[0m\n",
      "\u001b[1;31mNameError\u001b[0m: name 'df' is not defined"
     ]
    },
    {
     "data": {
      "text/plain": [
       "<Figure size 1200x300 with 0 Axes>"
      ]
     },
     "metadata": {},
     "output_type": "display_data"
    }
   ],
   "source": [
    "plt.figure(figsize=(12,3))\n",
    "\n",
    "# Assuming 'df' is your DataFrame and it's already loaded\n",
    "# Specifying the order of the locations\n",
    "locations_order_reversed = ['Chicago', 'San Diego', 'Houston', 'Death Valley']\n",
    "\n",
    "# Grouping the data by location and month, then calculating the average temperature\n",
    "heatmap_data = df.groupby(['location', 'month'])['temperature'].mean().unstack(level=1)\n",
    "\n",
    "# Reordering the dataframe based on the reversed location order\n",
    "heatmap_data_reversed = heatmap_data.reindex(locations_order_reversed)\n",
    "\n",
    "# Plotting the heatmap\n",
    "\n",
    "sns.heatmap(heatmap_data_reversed, cmap=\"YlOrRd\", linewidths=0.5, annot=False)\n",
    "plt.title('Average Monthly Temperature Normals by Location')\n",
    "plt.xlabel('Month')\n",
    "plt.ylabel('Location')\n",
    "plt.show()\n"
   ]
  },
  {
   "cell_type": "code",
   "execution_count": null,
   "id": "5a2114e6",
   "metadata": {},
   "outputs": [],
   "source": [
    "#still need to create a numerical matrix with numpy and visualize it with a \n",
    "#heatmap using sns and plt"
   ]
  },
  {
   "cell_type": "code",
   "execution_count": 16,
   "id": "d4c5af0e",
   "metadata": {},
   "outputs": [
    {
     "name": "stdout",
     "output_type": "stream",
     "text": [
      "(2, 5)\n"
     ]
    }
   ],
   "source": [
    "numerical_matrix_a = np.random.randint(1,100,5)\n",
    "numerical_matrix_b = np.random.randint(1,100,5)\n",
    "numerical_matrix = np.array([numerical_matrix_a, numerical_matrix_b])\n",
    "\n",
    "\n",
    "print(numerical_matrix.shape)\n"
   ]
  },
  {
   "cell_type": "code",
   "execution_count": 17,
   "id": "3d7b628f",
   "metadata": {},
   "outputs": [
    {
     "data": {
      "text/plain": [
       "<AxesSubplot:>"
      ]
     },
     "execution_count": 17,
     "metadata": {},
     "output_type": "execute_result"
    },
    {
     "data": {
      "image/png": "[encoded data removed]",
      "text/plain": [
       "<Figure size 640x480 with 2 Axes>"
      ]
     },
     "metadata": {},
     "output_type": "display_data"
    }
   ],
   "source": [
    "sns.heatmap(numerical_matrix)"
   ]
  },
  {
   "cell_type": "code",
   "execution_count": 18,
   "id": "63474160",
   "metadata": {},
   "outputs": [
    {
     "data": {
      "image/png": "[encoded data removed]",
      "text/plain": [
       "<Figure size 640x480 with 2 Axes>"
      ]
     },
     "metadata": {},
     "output_type": "display_data"
    }
   ],
   "source": [
    "sns.heatmap(numerical_matrix, cmap=\"viridis\", linewidths=0.5, annot=True)\n",
    "plt.title('Heatmap of a 5x5 Numerical Matrix')\n",
    "plt.xlabel('Column Index')\n",
    "plt.ylabel('Row Index')\n",
    "plt.show()\n"
   ]
  },
  {
   "cell_type": "code",
   "execution_count": null,
   "id": "13cf160a",
   "metadata": {},
   "outputs": [],
   "source": [
    "'''Reflection\n",
    "I had to watch 2 youtube tutorials in order to complete this assignment; Seaborn; how to create arrays\n",
    "in numpy...But I learned a lot. Prior to this, I was always just copying and pasting code.\n",
    "\n",
    "The color absolutely forces you to see the changes in the data and where the data is trending.\n",
    "To Do:\n",
    "Learn how to play with color!! I guess looka at the documentation'''\n"
   ]
  }
 ],
 "metadata": {
  "kernelspec": {
   "display_name": "Python 3 (ipykernel)",
   "language": "python",
   "name": "python3"
  },
  "language_info": {
   "codemirror_mode": {
    "name": "ipython",
    "version": 3
   },
   "file_extension": ".py",
   "mimetype": "text/x-python",
   "name": "python",
   "nbconvert_exporter": "python",
   "pygments_lexer": "ipython3",
   "version": "3.9.13"
  }
 },
 "nbformat": 4,
 "nbformat_minor": 5
}
